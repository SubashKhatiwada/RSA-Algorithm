{
  "nbformat": 4,
  "nbformat_minor": 0,
  "metadata": {
    "colab": {
      "name": "ECC.ipynb",
      "provenance": [],
      "collapsed_sections": [],
      "authorship_tag": "ABX9TyMZu5fiqpbGQxGfhbQPB4Ju",
      "include_colab_link": true
    },
    "kernelspec": {
      "name": "python3",
      "display_name": "Python 3"
    },
    "language_info": {
      "name": "python"
    }
  },
  "cells": [
    {
      "cell_type": "markdown",
      "metadata": {
        "id": "view-in-github",
        "colab_type": "text"
      },
      "source": [
        "<a href=\"https://colab.research.google.com/github/SubashKhatiwada/RSA-vs-ECC/blob/main/ECC.ipynb\" target=\"_parent\"><img src=\"https://colab.research.google.com/assets/colab-badge.svg\" alt=\"Open In Colab\"/></a>"
      ]
    },
    {
      "cell_type": "code",
      "source": [
        "import math\n",
        "import random\n",
        "import time"
      ],
      "metadata": {
        "id": "tHG7rHu3-N6Z"
      },
      "execution_count": null,
      "outputs": []
    },
    {
      "cell_type": "markdown",
      "source": [
        "# Generate Elliptic Equation "
      ],
      "metadata": {
        "id": "ru0GhgJFGvtO"
      }
    },
    {
      "cell_type": "code",
      "source": [
        "def generate_b(p:int, a:int, G:list):\n",
        "  xg = G[0]\n",
        "  yg = G[1]\n",
        "  xg3 = pow(xg,3)\n",
        "  axg = (a * xg)\n",
        "  xg3plusaxg = xg3 + axg\n",
        "  yg2 = pow(yg,2)\n",
        "  b = (yg2 - xg3plusaxg) % p\n",
        "  return b\n",
        "\n",
        "p= 503\n",
        "a = 4\n",
        "G = (283,315)\n",
        "b = 1\n",
        "\n",
        "print(\"a = \",a)\n",
        "print(\"b = \",b)\n",
        "print(\"p = \",p)\n",
        "print(\"G = \",G)"
      ],
      "metadata": {
        "colab": {
          "base_uri": "https://localhost:8080/"
        },
        "id": "8wfoPx9AG2Nv",
        "outputId": "edbcdfac-2b2e-4bfc-fe3d-301249eb3f7f"
      },
      "execution_count": null,
      "outputs": [
        {
          "output_type": "stream",
          "name": "stdout",
          "text": [
            "a =  4\n",
            "b =  1\n",
            "p =  503\n",
            "G =  (283, 315)\n"
          ]
        }
      ]
    },
    {
      "cell_type": "markdown",
      "source": [
        "#Global Parameters Generation "
      ],
      "metadata": {
        "id": "Rv47Os7OHA7j"
      }
    },
    {
      "cell_type": "code",
      "source": [
        "a =  4\n",
        "b =  1\n",
        "p =  503\n",
        "G =  [283, 315]"
      ],
      "metadata": {
        "id": "kHBWFLAReFwm"
      },
      "execution_count": null,
      "outputs": []
    },
    {
      "cell_type": "markdown",
      "source": [
        "# Find Total Points in Ep(a,b)"
      ],
      "metadata": {
        "id": "uDP79kmOz6eB"
      }
    },
    {
      "cell_type": "code",
      "source": [
        "# #Total points on elliptic curve under modulo p# \n",
        "# def total_points(a:int, b:int, p:int):\n",
        "#   points_set = []\n",
        "#   for  x in range(0,p-1):\n",
        "#     y_G = pow((pow(x,3)+a*x+b),1,p)\n",
        "#     for y in range(0,p-1):\n",
        "#       if pow(y,2,p) == y_G:\n",
        "#         points_set.append([x,y])\n",
        "#         break\n",
        "#   return points_set"
      ],
      "metadata": {
        "id": "jql7vGW70KaO",
        "colab": {
          "base_uri": "https://localhost:8080/"
        },
        "outputId": "245d5358-9dc6-4ace-8ff0-f4315a195f9e"
      },
      "execution_count": null,
      "outputs": [
        {
          "output_type": "stream",
          "name": "stdout",
          "text": [
            "15\n"
          ]
        }
      ]
    },
    {
      "cell_type": "markdown",
      "source": [
        "# Elliptic Curve Operations"
      ],
      "metadata": {
        "id": "BJrFNcXseM_o"
      }
    },
    {
      "cell_type": "code",
      "source": [
        "# Extended Euclidean Algorithm for calculating Multiplicative Inverse#\n",
        "def euclides(inverso, modulo):\n",
        "    modulo0 = modulo\n",
        "    x0, x1, y0, y1 = 1, 0, 0, 1\n",
        "    while modulo != 0:\n",
        "        q, inverso, modulo = inverso // modulo, modulo, inverso % modulo\n",
        "        x0, x1 = x1, x0 - q * x1\n",
        "        y0, y1 = y1, y0 - q * y1    \n",
        "    if x0 < 0:\n",
        "        x0 += modulo0\n",
        "    return x0\n",
        "\n",
        "def curve_operation(P:list,Q:list):\n",
        "  if P == Q:\n",
        "    R = point_doubling(P)\n",
        "  elif P[0] == Q[0] & P[1] == -Q[1] % p:\n",
        "    R = 0\n",
        "  else: \n",
        "    R = point_addition(P,Q)\n",
        "  return R\n",
        "\n",
        "def point_addition(P:list,Q:list):\n",
        "  x1, y1, x2, y2 = P[0], P[1], Q[0], Q[1] \n",
        "  numerator = pow((y2-y1),1,p)\n",
        "  denominator = pow((x2-x1),1,p)\n",
        "  inverse_denominator = euclides(denominator,p)\n",
        "  lamda = pow(numerator * inverse_denominator,1,p)\n",
        "  x3 = pow(pow(lamda,2,p)-x1-x2,1,p)\n",
        "  y3 = pow(lamda*(x1-x3)-y1,1,p)\n",
        "  R = [x3,y3]\n",
        "  return R\n",
        "\n",
        "def point_doubling(P:list):\n",
        "  x1, y1 = P[0], P[1]\n",
        "  numerator = pow(3*pow(x1,2)+a,1,p)\n",
        "  denominator = pow(2*y1,1,p)\n",
        "  inverse_denominator = euclides(denominator,p)\n",
        "  lamda = pow(numerator * inverse_denominator,1,p)\n",
        "  x3 = pow(pow(lamda,2)-2*x1,1,p)\n",
        "  y3 = pow(lamda*(x1-x3)-y1,1,p)\n",
        "  R = [x3,y3]\n",
        "  return R\n",
        "\n",
        "def point_multiplication(k:int,P:list):\n",
        "  R=P\n",
        "  for i in range(2,k+1):\n",
        "    R = curve_operation(R,P)\n",
        "    if R==0:\n",
        "      break\n",
        "  return R\n",
        "\n",
        "# print(point_multiplication(1,[283,315]))\n",
        "  "
      ],
      "metadata": {
        "id": "s1_cUMybHREl"
      },
      "execution_count": null,
      "outputs": []
    },
    {
      "cell_type": "markdown",
      "source": [
        "# Key Generation for Alice"
      ],
      "metadata": {
        "id": "ANtz21rjfj2y"
      }
    },
    {
      "cell_type": "code",
      "source": [
        "alice_private_key = 121\n",
        "alice_public_key = point_multiplication(alice_private_key,G)\n",
        "print(alice_public_key)"
      ],
      "metadata": {
        "id": "Vxq9L0UFf1jb",
        "colab": {
          "base_uri": "https://localhost:8080/"
        },
        "outputId": "ee8b4b99-f647-44d1-aa50-b27f7f0aacc4"
      },
      "execution_count": null,
      "outputs": [
        {
          "output_type": "stream",
          "name": "stdout",
          "text": [
            "[453, 78]\n"
          ]
        }
      ]
    },
    {
      "cell_type": "markdown",
      "source": [
        "# Key Generation for Bob"
      ],
      "metadata": {
        "id": "rhR-sqazfv_7"
      }
    },
    {
      "cell_type": "code",
      "source": [
        "bob_private_key = 101\n",
        "bob_public_key = point_multiplication(bob_private_key,G)\n",
        "print(bob_public_key)"
      ],
      "metadata": {
        "id": "-fqREjP5f2US",
        "colab": {
          "base_uri": "https://localhost:8080/"
        },
        "outputId": "0eb76905-f2d6-4335-cbae-ec6f7480a182"
      },
      "execution_count": null,
      "outputs": [
        {
          "output_type": "stream",
          "name": "stdout",
          "text": [
            "[363, 109]\n"
          ]
        }
      ]
    },
    {
      "cell_type": "markdown",
      "source": [
        "# Shared Secret Key Generation"
      ],
      "metadata": {
        "id": "o5cIk-Wtf7L4"
      }
    },
    {
      "cell_type": "code",
      "source": [
        "alice_secret_key = point_multiplication(alice_private_key, bob_public_key)\n",
        "bob_secret_key = point_multiplication(bob_private_key, alice_public_key)\n",
        "print(alice_secret_key)\n",
        "print(bob_secret_key)"
      ],
      "metadata": {
        "id": "KUqHwGVpgdJW",
        "colab": {
          "base_uri": "https://localhost:8080/"
        },
        "outputId": "2eafd841-b212-4d44-dbb1-e3bfc9cfbf19"
      },
      "execution_count": null,
      "outputs": [
        {
          "output_type": "stream",
          "name": "stdout",
          "text": [
            "[45, 303]\n",
            "[45, 303]\n"
          ]
        }
      ]
    },
    {
      "cell_type": "markdown",
      "source": [
        "# Message Encoder and Decoder"
      ],
      "metadata": {
        "id": "tg-RaqCBetcJ"
      }
    },
    {
      "cell_type": "code",
      "source": [
        "def generate_table(G:list):\n",
        "  table = []\n",
        "  for i in range(0,127):\n",
        "    point = point_multiplication(i,G)\n",
        "    table.append([i,point])\n",
        "  return table\n",
        "mapping_table = generate_table(G)\n",
        "\n",
        "def encoder(text:str):\n",
        "  ascii_list = [ord(c) for c in text]\n",
        "  encoded_points = []\n",
        "  for i in range(0,len(ascii_list)):\n",
        "    encoded_point = mapping_table[ascii_list[i]][1]\n",
        "    encoded_points.append(encoded_point)\n",
        "  return encoded_points\n",
        "\n",
        "def decoder(encoded_points:list):\n",
        "  points_list = []\n",
        "  ascii_list = []\n",
        "  for j in range(127):\n",
        "    value = mapping_table[j][1]\n",
        "    points_list.append(value)\n",
        "  indices = []\n",
        "  for i in range(len(encoded_points)):\n",
        "    index = points_list.index(encoded_points[i])\n",
        "    ascii_list.append(index)\n",
        "  message = ''.join(chr(i) for i in ascii_list)\n",
        "  return(message)"
      ],
      "metadata": {
        "id": "4s6cJGR7ezoe"
      },
      "execution_count": null,
      "outputs": []
    },
    {
      "cell_type": "markdown",
      "source": [
        "# ECC Message Encryption by Alice\n",
        "\n",
        "\n"
      ],
      "metadata": {
        "id": "jLUAX511d2wZ"
      }
    },
    {
      "cell_type": "code",
      "source": [
        "def encryption(message:str):\n",
        "  Pm = encoder(message)\n",
        "  Pm_plus_kPB_list = []\n",
        "  k = 41\n",
        "  print(\"k = \", k)\n",
        "  kG = point_multiplication(k,G)\n",
        "  kPb = point_multiplication(k,bob_public_key)\n",
        "  print(\"kPUb = \", kPb)\n",
        "  for i in range(0,len(Pm)):\n",
        "    Pm_plus_kPB = point_addition(Pm[i],kPb)\n",
        "    Pm_plus_kPB_list.append(Pm_plus_kPB)\n",
        "  cipher = [kG,Pm_plus_kPB_list]\n",
        "  print(\"C1 = \", kG)\n",
        "  print(\"C2=\",Pm_plus_kPB_list)\n",
        "  print(\"cipher = \", cipher)\n",
        "  return(cipher)\n"
      ],
      "metadata": {
        "id": "dWDdTBhkd7WB"
      },
      "execution_count": null,
      "outputs": []
    },
    {
      "cell_type": "markdown",
      "source": [
        "# ECC Chipher Decryption by Bob "
      ],
      "metadata": {
        "id": "HPYZPyYkgMUt"
      }
    },
    {
      "cell_type": "code",
      "source": [
        "def decryption(cipher:list):\n",
        "  kG = cipher[0]\n",
        "  print(\"C1(kG) = \", kG)\n",
        "  print(\"bob_private_key = \", bob_private_key)\n",
        "  Pm_plus_kPB_list = cipher[1]\n",
        "  nBkG = point_multiplication(bob_private_key,kG)\n",
        "  print(\"nBkG = \",nBkG)\n",
        "  negative_nBkG = [nBkG[0], pow(-nBkG[1],1,p)]\n",
        "  print(\"-nBkG = \", negative_nBkG)\n",
        "  Pm = []\n",
        "  for i in range(0,len(Pm_plus_kPB_list)):\n",
        "    decry_p = curve_operation(Pm_plus_kPB_list[i],negative_nBkG)\n",
        "    Pm.append(decry_p)\n",
        "  print(\"Encoded message =\",Pm)\n",
        "  message = decoder(Pm)\n",
        "  print(\"Message=\", message)\n",
        "\n",
        "  return message\n"
      ],
      "metadata": {
        "id": "ThKH6hPMgd0y"
      },
      "execution_count": null,
      "outputs": []
    },
    {
      "cell_type": "markdown",
      "source": [
        "# Implementation"
      ],
      "metadata": {
        "id": "A2U1Ln9Z0hh3"
      }
    },
    {
      "cell_type": "code",
      "source": [
        "m = \"H\"\n",
        "\n",
        "enc_starttime = time.time()\n",
        "Cm = encryption(m)\n",
        "enc_endtime = time.time()\n",
        "dec_starttime = time.time()\n",
        "Pm = decryption(Cm)\n",
        "dec_endtime = time.time()\n",
        "print(\"Encryption Time = \", enc_endtime - enc_starttime)\n",
        "print(\"Decryption Time = \", dec_endtime - dec_starttime)\n",
        "\n"
      ],
      "metadata": {
        "colab": {
          "base_uri": "https://localhost:8080/"
        },
        "id": "pi_wjcEe0m4U",
        "outputId": "3e4270a7-3170-443b-fbe8-7bde18f86a4a"
      },
      "execution_count": null,
      "outputs": [
        {
          "output_type": "stream",
          "name": "stdout",
          "text": [
            "k =  41\n",
            "kPUb =  [185, 213]\n",
            "C1 =  [143, 474]\n",
            "C2= [[308, 154]]\n",
            "cipher =  [[143, 474], [[308, 154]]]\n",
            "C1(kG) =  [143, 474]\n",
            "bob_private_key =  101\n",
            "nBkG =  [185, 213]\n",
            "-nBkG =  [185, 290]\n",
            "Encoded message = [[265, 52]]\n",
            "Message= H\n",
            "Encryption Time =  0.006996870040893555\n",
            "Decryption Time =  0.002674102783203125\n"
          ]
        }
      ]
    }
  ]
}