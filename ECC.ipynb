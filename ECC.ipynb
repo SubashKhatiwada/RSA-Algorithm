{
  "nbformat": 4,
  "nbformat_minor": 0,
  "metadata": {
    "colab": {
      "name": "ECC.ipynb",
      "provenance": [],
      "collapsed_sections": [],
      "authorship_tag": "ABX9TyNiyxG1A1tvRfmhc5nY55+J",
      "include_colab_link": true
    },
    "kernelspec": {
      "name": "python3",
      "display_name": "Python 3"
    },
    "language_info": {
      "name": "python"
    }
  },
  "cells": [
    {
      "cell_type": "markdown",
      "metadata": {
        "id": "view-in-github",
        "colab_type": "text"
      },
      "source": [
        "<a href=\"https://colab.research.google.com/github/SubashKhatiwada/RSA-vs-ECC/blob/main/ECC.ipynb\" target=\"_parent\"><img src=\"https://colab.research.google.com/assets/colab-badge.svg\" alt=\"Open In Colab\"/></a>"
      ]
    },
    {
      "cell_type": "code",
      "source": [
        "import math\n",
        "import random"
      ],
      "metadata": {
        "id": "tHG7rHu3-N6Z"
      },
      "execution_count": 71,
      "outputs": []
    },
    {
      "cell_type": "markdown",
      "source": [
        "#Global Parameters Generation "
      ],
      "metadata": {
        "id": "Rv47Os7OHA7j"
      }
    },
    {
      "cell_type": "code",
      "source": [
        "a = 0\n",
        "b = -4\n",
        "p = 257 \n",
        "G = [2,2]"
      ],
      "metadata": {
        "id": "kHBWFLAReFwm"
      },
      "execution_count": 72,
      "outputs": []
    },
    {
      "cell_type": "markdown",
      "source": [
        "# Find Base Point G in Ep(a,b)"
      ],
      "metadata": {
        "id": "uDP79kmOz6eB"
      }
    },
    {
      "cell_type": "code",
      "source": [
        "# # Total points on elliptic curve under modulo p# \n",
        "# def total_points(a:int, b:int, p:int):\n",
        "#   points_set = []\n",
        "#   for  x in range(0,p-1):\n",
        "#     for y in range(0,p-1):\n",
        "#       if pow(y,2,p) == pow((pow(x,3)+a*x+b),1,p):\n",
        "#         points_set.append([x,y])\n",
        "#   return points_set\n",
        "\n",
        "# def generate_base_point(points:list):\n",
        "#   for i  in range(0,len(points)):\n",
        "#     for j in range(0,len(points)):\n",
        "#       print(j,\"P of\", points[i],\"=\",point_multiplication(j,points[i]))\n",
        "\n",
        "\n",
        "# points = total_points(a,b,p)\n",
        "# print(points)\n",
        "# generate_base_point(points)"
      ],
      "metadata": {
        "id": "jql7vGW70KaO"
      },
      "execution_count": 73,
      "outputs": []
    },
    {
      "cell_type": "markdown",
      "source": [
        "# Elliptic Curve Operations"
      ],
      "metadata": {
        "id": "BJrFNcXseM_o"
      }
    },
    {
      "cell_type": "code",
      "source": [
        "# Extended Euclidean Algorithm for calculating Multiplicative Inverse#\n",
        "def euclides(inverso, modulo):\n",
        "    modulo0 = modulo\n",
        "    x0, x1, y0, y1 = 1, 0, 0, 1\n",
        "    while modulo != 0:\n",
        "        q, inverso, modulo = inverso // modulo, modulo, inverso % modulo\n",
        "        x0, x1 = x1, x0 - q * x1\n",
        "        y0, y1 = y1, y0 - q * y1    \n",
        "    if x0 < 0:\n",
        "        x0 += modulo0\n",
        "    return x0\n",
        "\n",
        "def curve_operation(P:list,Q:list):\n",
        "  if P == Q:\n",
        "    R = point_doubling(P)\n",
        "  elif P[0] == Q[0] & P[1] == -Q[1] % p:\n",
        "    R = 0\n",
        "  else: \n",
        "    R = point_addition(P,Q)\n",
        "  return R\n",
        "\n",
        "def point_addition(P:list,Q:list):\n",
        "  x1, y1, x2, y2 = P[0], P[1], Q[0], Q[1] \n",
        "  numerator = pow((y2-y1),1,p)\n",
        "  denominator = pow((x2-x1),1,p)\n",
        "  inverse_denominator = euclides(denominator,p)\n",
        "  lamda = pow(numerator * inverse_denominator,1,p)\n",
        "  x3 = pow(pow(lamda,2,p)-x1-x2,1,p)\n",
        "  y3 = pow(lamda*(x1-x3)-y1,1,p)\n",
        "  R = [x3,y3]\n",
        "  return R\n",
        "\n",
        "def point_doubling(P:list):\n",
        "  x1, y1 = P[0], P[1]\n",
        "  numerator = pow(3*pow(x1,2)+a,1,p)\n",
        "  denominator = pow(2*y1,1,p)\n",
        "  inverse_denominator = euclides(denominator,p)\n",
        "  lamda = pow(numerator * inverse_denominator,1,p)\n",
        "  x3 = pow(pow(lamda,2)-2*x1,1,p)\n",
        "  y3 = pow(lamda*(x1-x3)-y1,1,p)\n",
        "  R = [x3,y3]\n",
        "  return R\n",
        "\n",
        "def point_multiplication(k:int,P:list):\n",
        "  R=P\n",
        "  for i in range(2,k+1):\n",
        "    R = curve_operation(R,P)\n",
        "    if R==0:\n",
        "      break\n",
        "  return R\n",
        "\n",
        "# print(point_multiplication(1,[283,315]))\n",
        "  \n"
      ],
      "metadata": {
        "id": "s1_cUMybHREl"
      },
      "execution_count": 75,
      "outputs": []
    },
    {
      "cell_type": "markdown",
      "source": [
        "# Key Generation for Alice"
      ],
      "metadata": {
        "id": "ANtz21rjfj2y"
      }
    },
    {
      "cell_type": "code",
      "source": [
        "alice_private_key = 121\n",
        "alice_public_key = point_multiplication(alice_private_key,G)\n",
        "# print(alice_public_key)"
      ],
      "metadata": {
        "id": "Vxq9L0UFf1jb"
      },
      "execution_count": 77,
      "outputs": []
    },
    {
      "cell_type": "markdown",
      "source": [
        "# Key Generation for Bob"
      ],
      "metadata": {
        "id": "rhR-sqazfv_7"
      }
    },
    {
      "cell_type": "code",
      "source": [
        "bob_private_key = 101\n",
        "bob_public_key = point_multiplication(bob_private_key,G)\n",
        "print(bob_public_key)"
      ],
      "metadata": {
        "id": "-fqREjP5f2US",
        "colab": {
          "base_uri": "https://localhost:8080/"
        },
        "outputId": "944d7d61-8b1d-483a-c17b-d21ad3d6a284"
      },
      "execution_count": 78,
      "outputs": [
        {
          "output_type": "stream",
          "name": "stdout",
          "text": [
            "[197, 167]\n"
          ]
        }
      ]
    },
    {
      "cell_type": "markdown",
      "source": [
        "# Shared Secret Key Generation"
      ],
      "metadata": {
        "id": "o5cIk-Wtf7L4"
      }
    },
    {
      "cell_type": "code",
      "source": [
        "alice_secret_key = point_multiplication(alice_private_key, bob_public_key)\n",
        "bob_secret_key = point_multiplication(bob_private_key, alice_public_key)\n",
        "print(alice_secret_key)\n",
        "print(bob_secret_key)"
      ],
      "metadata": {
        "id": "KUqHwGVpgdJW",
        "colab": {
          "base_uri": "https://localhost:8080/"
        },
        "outputId": "06048d22-3edc-4d59-ad81-82b797b9cc70"
      },
      "execution_count": 80,
      "outputs": [
        {
          "output_type": "stream",
          "name": "stdout",
          "text": [
            "[192, 238]\n",
            "[192, 238]\n"
          ]
        }
      ]
    },
    {
      "cell_type": "markdown",
      "source": [
        "# Message Encoder and Decoder"
      ],
      "metadata": {
        "id": "tg-RaqCBetcJ"
      }
    },
    {
      "cell_type": "code",
      "source": [
        "def generate_table(G:list):\n",
        "  table = []\n",
        "  for i in range(0,127):\n",
        "    point = point_multiplication(i,G)\n",
        "    table.append([i,point])\n",
        "  return table\n",
        "encoder_decoder_table = generate_table(G)\n",
        "print(\"encoder_decoder_table \",encoder_decoder_table)\n",
        "\n",
        "def encoder(text:str):\n",
        "  ascii_list = [ord(c) for c in text]\n",
        "  encoded_points = []\n",
        "  # print(ascii_list)\n",
        "  for i in range(0,len(ascii_list)):\n",
        "    encoded_point = encoder_decoder_table[ascii_list[i]][1]\n",
        "    encoded_points.append(encoded_point)\n",
        "  return encoded_points\n",
        "\n",
        "def decoder(encoded_points:list):\n",
        "  points_list = []\n",
        "  ascii_list = []\n",
        "  for j in range(127):\n",
        "    value = encoder_decoder_table[j][1]\n",
        "    points_list.append(value)\n",
        "  indices = []\n",
        "  for i in range(len(encoded_points)):\n",
        "    index = points_list.index(encoded_points[i])\n",
        "    ascii_list.append(index)\n",
        "  message = ''.join(chr(i) for i in ascii_list)\n",
        "  return(message)\n",
        "\n",
        "# print(\"Encodeing=\",encoder(\"hiii\"))\n",
        "# print(\"decoding\",decoder([[178, 59], [99, 190], [99, 190], [99, 190]]))"
      ],
      "metadata": {
        "id": "4s6cJGR7ezoe",
        "colab": {
          "base_uri": "https://localhost:8080/"
        },
        "outputId": "f8c73c37-97a8-45ea-d080-9b370f741379"
      },
      "execution_count": 180,
      "outputs": [
        {
          "output_type": "stream",
          "name": "stdout",
          "text": [
            "encoder_decoder_table  [[0, [2, 2]], [1, [2, 2]], [2, [5, 246]], [3, [126, 107]], [4, [188, 226]], [5, [56, 248]], [6, [4, 46]], [7, [221, 63]], [8, [156, 137]], [9, [63, 53]], [10, [163, 251]], [11, [233, 43]], [12, [53, 29]], [13, [68, 84]], [14, [164, 7]], [15, [49, 14]], [16, [86, 157]], [17, [80, 56]], [18, [177, 35]], [19, [159, 127]], [20, [210, 1]], [21, [229, 114]], [22, [185, 13]], [23, [39, 132]], [24, [99, 67]], [25, [178, 198]], [26, [42, 117]], [27, [153, 110]], [28, [197, 90]], [29, [125, 156]], [30, [143, 91]], [31, [240, 123]], [32, [94, 124]], [33, [253, 73]], [34, [192, 19]], [35, [29, 235]], [36, [249, 189]], [37, [55, 141]], [38, [226, 70]], [39, [168, 122]], [40, [15, 162]], [41, [136, 128]], [42, [30, 221]], [43, [0, 32]], [44, [223, 229]], [45, [254, 45]], [46, [3, 58]], [47, [47, 48]], [48, [90, 245]], [49, [201, 164]], [50, [100, 254]], [51, [20, 172]], [52, [137, 8]], [53, [93, 171]], [54, [113, 159]], [55, [75, 205]], [56, [122, 41]], [57, [34, 39]], [58, [200, 10]], [59, [217, 62]], [60, [82, 149]], [61, [203, 178]], [62, [193, 121]], [63, [60, 87]], [64, [51, 99]], [65, [51, 158]], [66, [60, 170]], [67, [193, 136]], [68, [203, 79]], [69, [82, 108]], [70, [217, 195]], [71, [200, 247]], [72, [34, 218]], [73, [122, 216]], [74, [75, 52]], [75, [113, 98]], [76, [93, 86]], [77, [137, 249]], [78, [20, 85]], [79, [100, 3]], [80, [201, 93]], [81, [90, 12]], [82, [47, 209]], [83, [3, 199]], [84, [254, 212]], [85, [223, 28]], [86, [0, 225]], [87, [30, 36]], [88, [136, 129]], [89, [15, 95]], [90, [168, 135]], [91, [226, 187]], [92, [55, 116]], [93, [249, 68]], [94, [29, 22]], [95, [192, 238]], [96, [253, 184]], [97, [94, 133]], [98, [240, 134]], [99, [143, 166]], [100, [125, 101]], [101, [197, 167]], [102, [153, 147]], [103, [42, 140]], [104, [178, 59]], [105, [99, 190]], [106, [39, 125]], [107, [185, 244]], [108, [229, 143]], [109, [210, 256]], [110, [159, 130]], [111, [177, 222]], [112, [80, 201]], [113, [86, 100]], [114, [49, 243]], [115, [164, 250]], [116, [68, 173]], [117, [53, 228]], [118, [233, 214]], [119, [163, 6]], [120, [63, 204]], [121, [156, 120]], [122, [221, 194]], [123, [4, 211]], [124, [56, 9]], [125, [188, 31]], [126, [126, 150]]]\n",
            "Encodeing= [[178, 59], [99, 190], [99, 190], [99, 190]]\n",
            "decoding hiii\n"
          ]
        }
      ]
    },
    {
      "cell_type": "markdown",
      "source": [
        "# ECC Message Encryption by Alice\n",
        "\n",
        "\n"
      ],
      "metadata": {
        "id": "jLUAX511d2wZ"
      }
    },
    {
      "cell_type": "code",
      "source": [
        "def encryption(message:str, bob_public_key:list):\n",
        "  Pm = encoder(message)\n",
        "  # Pm = [[112,26],[113, 26]]\n",
        "  print(\"message=\",Pm)\n",
        "  Pm_plus_kPB_list = []\n",
        "  k = 41\n",
        "  kG = point_multiplication(k,G)\n",
        "  kPb = point_multiplication(k,bob_public_key)\n",
        "  for i in range(0,len(Pm)):\n",
        "    Pm_plus_kPB = point_addition(Pm[i],kPb)\n",
        "    Pm_plus_kPB_list.append(Pm_plus_kPB)\n",
        "  cipher = [kG,Pm_plus_kPB_list]\n",
        "  print(\"cipher= \",cipher)\n",
        "encryption(\"hii\", bob_public_key)"
      ],
      "metadata": {
        "id": "dWDdTBhkd7WB",
        "colab": {
          "base_uri": "https://localhost:8080/"
        },
        "outputId": "f421c0ac-7409-47c9-efb1-9f8c1166866d"
      },
      "execution_count": 149,
      "outputs": [
        {
          "output_type": "stream",
          "name": "stdout",
          "text": [
            "message= [[178, 59], [99, 190], [99, 190]]\n",
            "cipher=  [[136, 128], [[53, 228], [233, 214], [233, 214]]]\n"
          ]
        }
      ]
    },
    {
      "cell_type": "markdown",
      "source": [
        "# ECC Chipher Decryption by Bob "
      ],
      "metadata": {
        "id": "HPYZPyYkgMUt"
      }
    },
    {
      "cell_type": "code",
      "source": [
        "def decryption(cipher:list):\n",
        "  kG = cipher[0]\n",
        "  print(\"kG = \", kG)\n",
        "  print(\"bob_private_key = \", bob_private_key)\n",
        "  Pm_plus_kPB_list = cipher[1]\n",
        "  nBkG = point_multiplication(bob_private_key,kG)\n",
        "  print(\"nBkG = \",nBkG)\n",
        "  negative_nBkG = [nBkG[0], pow(-nBkG[1],1,p)]\n",
        "  print(\"-nBkG = \", negative_nBkG)\n",
        "  Pm = []\n",
        "  for i in range(0,len(Pm_plus_kPB_list)):\n",
        "    decry_p = curve_operation(Pm_plus_kPB_list[i],negative_nBkG)\n",
        "    Pm.append(decry_p)\n",
        "  print(Pm)\n",
        "  # message = decoder(Pm)\n",
        "\n",
        "decryption([[136, 128], [[53, 228], [233, 214], [233, 214]]])"
      ],
      "metadata": {
        "id": "ThKH6hPMgd0y",
        "colab": {
          "base_uri": "https://localhost:8080/"
        },
        "outputId": "bf12fdb5-a2fd-4a6e-8811-ea71df3599c2"
      },
      "execution_count": 151,
      "outputs": [
        {
          "output_type": "stream",
          "name": "stdout",
          "text": [
            "kG =  [136, 128]\n",
            "bob_private_key =  101\n",
            "nBkG =  [68, 84]\n",
            "-nBkG =  [68, 173]\n",
            "[[178, 59], [99, 190], [99, 190]]\n"
          ]
        }
      ]
    }
  ]
}