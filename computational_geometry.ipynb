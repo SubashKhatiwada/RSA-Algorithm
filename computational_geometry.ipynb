{
  "nbformat": 4,
  "nbformat_minor": 0,
  "metadata": {
    "colab": {
      "provenance": [],
      "include_colab_link": true
    },
    "kernelspec": {
      "name": "python3",
      "display_name": "Python 3"
    }
  },
  "cells": [
    {
      "cell_type": "markdown",
      "metadata": {
        "id": "view-in-github",
        "colab_type": "text"
      },
      "source": [
        "<a href=\"https://colab.research.google.com/github/SubashKhatiwada/RSA-vs-ECC/blob/main/computational_geometry.ipynb\" target=\"_parent\"><img src=\"https://colab.research.google.com/assets/colab-badge.svg\" alt=\"Open In Colab\"/></a>"
      ]
    },
    {
      "cell_type": "markdown",
      "metadata": {
        "id": "4cnuWxdo-lu9"
      },
      "source": [
        "# Loading Essential Packages"
      ]
    },
    {
      "cell_type": "code",
      "metadata": {
        "id": "0krakUR_-vN8"
      },
      "source": [
        "import sys\n",
        "import matplotlib.pyplot as plt\n",
        "plt.style.use('seaborn-whitegrid')\n",
        "import numpy as np"
      ],
      "execution_count": null,
      "outputs": []
    },
    {
      "cell_type": "markdown",
      "metadata": {
        "id": "PZWeLjZ5-aw0"
      },
      "source": [
        "# Creating Data Structure for Point"
      ]
    },
    {
      "cell_type": "code",
      "metadata": {
        "id": "hUkfkenKq0z6"
      },
      "source": [
        "class Point:\n",
        "  x = 0\n",
        "  y = 0\n",
        "\n",
        "  def create(self):\n",
        "    self.x = int(input('Input x coordinate value: '))\n",
        "    self.y = int(input('Input y coordinate value: '))\n",
        "\n",
        "  def setX(self,x):\n",
        "    self.x = x\n",
        "\n",
        "  def setY(self,y):\n",
        "    self.y = y\n",
        "\n",
        "  def getX(self):\n",
        "    return self.x\n",
        "\n",
        "  def getY(self):\n",
        "    return self.y\n",
        "p = Point()\n",
        "p.create()\n",
        "#showing in graph\n",
        "plt.plot(p.getX(), p.getY(),'or')\n",
        "plt.annotate(\"Point\", (p.getX(), p.getY()))\n",
        "plt.show()"
      ],
      "execution_count": null,
      "outputs": []
    },
    {
      "cell_type": "markdown",
      "metadata": {
        "id": "Tyw_-aUV90j6"
      },
      "source": [
        "# Creating Data Structure for Line Segment"
      ]
    },
    {
      "cell_type": "code",
      "metadata": {
        "id": "xA2HDLTtzKOX"
      },
      "source": [
        "\n",
        "class LineSegment(Point):\n",
        "  x1, y1, x2, y2 = 0, 0, 0, 0\n",
        "  def create(self):\n",
        "    startpoint = Point()\n",
        "    endpoint = Point()\n",
        "    print('Enter Start Point Value')\n",
        "    startpoint.create()\n",
        "    self.x1 = startpoint.getX()\n",
        "    self.y1 = startpoint.getY()\n",
        "    print(\"Enter End Point Value\")\n",
        "    endpoint.create()\n",
        "    self.x2 = endpoint.getX()\n",
        "    self.y2 = endpoint.getY()\n",
        "  \n",
        "  def getX(self):\n",
        "    X = [self.x1, self.x2]\n",
        "    return X\n",
        "    \n",
        "  def getY(self):\n",
        "    Y = [self.y1, self.y2]\n",
        "    return Y\n",
        "\n",
        "line = LineSegment()\n",
        "line.create()\n",
        "X = line.getX()\n",
        "Y = line.getY()\n",
        "plt.plot(X, Y,'ko-')\n",
        "plt.annotate(\"Start Point\",(X[0], Y[0]))\n",
        "plt.annotate(\"End Point\",(X[1], Y[1"
      ],
      "execution_count": null,
      "outputs": []
    },
    {
      "cell_type": "markdown",
      "metadata": {
        "id": "lrXwPLn29_o9"
      },
      "source": [
        "# Creating Data Structure for Ray"
      ]
    },
    {
      "cell_type": "code",
      "metadata": {
        "id": "hWHlMZKOGOZS",
        "colab": {
          "base_uri": "https://localhost:8080/",
          "height": 384
        },
        "outputId": "38ecd7be-47fd-4592-e668-d0933c6c2f8f"
      },
      "source": [
        "class Ray(Point):\n",
        "  x1, y1, x2, y2, x_max, y_max= 0, 0, 0, 0, 0, 0\n",
        "  def create(self):\n",
        "    fixedpoint = Point()\n",
        "    passingpoint = Point()\n",
        "  \n",
        "    print('Enter Fixed Point Value')\n",
        "    fixedpoint.create()\n",
        "    self.x1 = fixedpoint.getX()\n",
        "    self.y1 = fixedpoint.getY()\n",
        "    print(\"Enter a point from where line is passed through\")\n",
        "    passingpoint.create()\n",
        "    self.x2 = passingpoint.getX()\n",
        "    self.y2 = passingpoint.getY()\n",
        "    slope = (self.y2-self.y1)/(self.x2-self.x1)\n",
        "    \n",
        "    self.x_max = 100\n",
        "    self.y_max = slope*(self.x_max-self.x2)+ self.y2\n",
        "\n",
        "         \n",
        "  def getX(self):\n",
        "    X = [self.x1, self.x2, self.x_max]\n",
        "    return X\n",
        "    \n",
        "  def getY(self):\n",
        "    Y = [self.y1, self.y2, self.y_max]\n",
        "    return Y\n",
        "\n",
        "ray = Ray()\n",
        "ray.create()\n",
        "X = ray.getX()\n",
        "Y = ray.getY()\n",
        "plt.plot(X, Y,'ko-')\n",
        "plt.annotate(\"Fixed Point\",(X[0], Y[0]))\n",
        "plt.annotate(\"Passing Point\",(X[1], Y[1]))"
      ],
      "execution_count": null,
      "outputs": [
        {
          "name": "stdout",
          "output_type": "stream",
          "text": [
            "Enter Fixed Point Value\n",
            "Input x coordinate value: 12\n",
            "Input y coordinate value: 34\n",
            "Enter a point from where line is passed through\n",
            "Input x coordinate value: 77\n",
            "Input y coordinate value: 89\n"
          ]
        },
        {
          "output_type": "execute_result",
          "data": {
            "text/plain": [
              "Text(77, 89, 'Passing Point')"
            ]
          },
          "metadata": {},
          "execution_count": 10
        },
        {
          "output_type": "display_data",
          "data": {
            "text/plain": [
              "<Figure size 432x288 with 1 Axes>"
            ],
            "image/png": "[encoded data removed]"
          },
          "metadata": {}
        }
      ]
    },
    {
      "cell_type": "markdown",
      "metadata": {
        "id": "-8AfJq3Kv0FK"
      },
      "source": [
        "# Implementation of Polygon"
      ]
    },
    {
      "cell_type": "code",
      "metadata": {
        "id": "3Z8RwkqZwDef",
        "colab": {
          "base_uri": "https://localhost:8080/",
          "height": 453
        },
        "outputId": "bf3b8dfd-aeea-44dc-fcf1-cdfe920ce515"
      },
      "source": [
        "class Polygon:\n",
        "  n = int(input(\"Input number of vertices:\"))\n",
        "  x_list = [ ] \n",
        "  y_list = [ ]\n",
        "  for i in range(0, int(n)):\n",
        "    p = Point()\n",
        "    p.create() \n",
        "    vert_x = p.getX()\n",
        "    vert_y = p.getY()\n",
        "    x_list.append(vert_x)\n",
        "    y_list.append(vert_y)\n",
        "  print('X coordinate list', x_list)\n",
        "  print('Y coordinate list', y_list)    \n",
        "  \n",
        "  \n",
        "  plt.plot(x_list, y_list,'ko-')\n",
        "  plt.plot([x_list[0],x_list[n-1]],[y_list[0],y_list[n-1]],'ko-')\n",
        "  plt.show\n",
        "  \n",
        "\n",
        "  # Example1:\n",
        "  # number of vertices: 5\n",
        "  # (2,2), (5,5), (10,2), (7,10), (2,13)\n",
        "  # output: not convex polygon\n",
        "\n",
        "  # Example 2:\n",
        "  # number of vertices: 5\n",
        "  # (-4,8) (2,2), (10,8), (7,15), (-10,16)\n",
        "  # Output: convex polygon\n"
      ],
      "execution_count": null,
      "outputs": [
        {
          "output_type": "stream",
          "name": "stdout",
          "text": [
            "Input number of vertices:4\n",
            "Input x coordinate value: 1\n",
            "Input y coordinate value: 1\n",
            "Input x coordinate value: 2\n",
            "Input y coordinate value: 4\n",
            "Input x coordinate value: 3\n",
            "Input y coordinate value: 2\n",
            "Input x coordinate value: 1\n",
            "Input y coordinate value: 2\n",
            "X coordinate list [1, 2, 3, 1]\n",
            "Y coordinate list [1, 4, 2, 2]\n"
          ]
        },
        {
          "output_type": "display_data",
          "data": {
            "image/png": "[encoded data removed]",
            "text/plain": [
              "<Figure size 432x288 with 1 Axes>"
            ]
          },
          "metadata": {
            "needs_background": "light"
          }
        }
      ]
    },
    {
      "cell_type": "markdown",
      "metadata": {
        "id": "Hm00dczNQ4kJ"
      },
      "source": [
        "# Implementation of Turn Test"
      ]
    },
    {
      "cell_type": "code",
      "metadata": {
        "id": "OlhtIf10RrB8"
      },
      "source": [
        "def turntest(x = [int, int, int], y= [int, int, int]):\n",
        "  cross_product = (x[1]-x[0])*(y[2]-y[0])-(x[2]-x[0])*(y[1]-y[0])\n",
        "  # print(\"cross product\",cross_product)\n",
        "  if cross_product > 0:\n",
        "    turn = \"left turn\"\n",
        "  elif cross_product < 0:\n",
        "    turn = \"right turn\"\n",
        "  elif cross_product == 0:\n",
        "    turn = \"colinear\"\n",
        "  print(\"turn test of point(\", x[0],\",\", y[0], \")\", \", \", \"(\", x[1],\",\", y[1], \")\", \"(\", x[2],\",\", y[2], \")\", \"is\", turn)\n",
        "  return turn\n",
        "  \n",
        "\n",
        "# x_list = []\n",
        "# y_list = []\n",
        "# print(\"Input three points\")\n",
        "# for i in range(0,3):\n",
        "#   p = Point()\n",
        "#   p.create() \n",
        "#   vert_x = p.getX()\n",
        "#   vert_y = p.getY()\n",
        "#   x_list.append(vert_x)\n",
        "#   y_list.append(vert_y)\n",
        "# turntest(x_list, y_list)\n"
      ],
      "execution_count": null,
      "outputs": []
    },
    {
      "cell_type": "markdown",
      "metadata": {
        "id": "-YMrtEtcb44r"
      },
      "source": [
        "# Checking whether polygon is convex or not"
      ]
    },
    {
      "cell_type": "code",
      "metadata": {
        "id": "expK-fQLcBa-",
        "colab": {
          "base_uri": "https://localhost:8080/"
        },
        "outputId": "5f08cab4-1339-4c1e-d22e-8e93c52b775b"
      },
      "source": [
        "def checkConvexity(x: list, y:list):\n",
        "  n = len(x)\n",
        "  right_flag = 0\n",
        "  for i in range(0, n):\n",
        "    if i == 0:\n",
        "      turntest_result = turntest([x[n-1], x[i], x[i+1]], [y[n-1], y[i], y[i+1]])\n",
        "    if i == n-1:\n",
        "      turntest_result = turntest([x[0], x[i], x[i-1]], [y[0], y[i], y[i-1]])\n",
        "    else:\n",
        "      turntest_result = turntest([x[i-1], x[i], x[i+1]], [y[i-1], y[i], y[i+1]])\n",
        "    if turntest_result == \"right turn\":\n",
        "      right_flag = 1\n",
        "      break\n",
        "  if right_flag == 1:\n",
        "    print(\"Given polygon is not convex polygon\")\n",
        "  else:\n",
        "    print(\"Given polygon is convex\")\n",
        "\n",
        "#Example 2\n",
        "checkConvexity([1, 3, 2, 1], [1, 2, 4, 2])"
      ],
      "execution_count": null,
      "outputs": [
        {
          "output_type": "stream",
          "name": "stdout",
          "text": [
            "turn test of point( 1 , 2 ) ,  ( 1 , 1 ) ( 3 , 2 ) is left turn\n",
            "turn test of point( 1 , 2 ) ,  ( 1 , 1 ) ( 3 , 2 ) is left turn\n",
            "turn test of point( 1 , 1 ) ,  ( 3 , 2 ) ( 2 , 4 ) is left turn\n",
            "turn test of point( 3 , 2 ) ,  ( 2 , 4 ) ( 1 , 2 ) is left turn\n",
            "turn test of point( 1 , 1 ) ,  ( 1 , 2 ) ( 2 , 4 ) is right turn\n",
            "Given polygon is not convex polygon\n"
          ]
        }
      ]
    },
    {
      "cell_type": "markdown",
      "metadata": {
        "id": "VOQB51uZGo9Q"
      },
      "source": [
        "# Implementation of Intersection: Proper and Improper "
      ]
    },
    {
      "cell_type": "code",
      "metadata": {
        "id": "nz_si04WGy3Z",
        "colab": {
          "base_uri": "https://localhost:8080/",
          "height": 626
        },
        "outputId": "5e11fbeb-98cb-4c3f-b4ca-8e6d525f531a"
      },
      "source": [
        "def checkIntersection():\n",
        "  print(\"Input point A details:\")\n",
        "  point_A = Point()\n",
        "  point_A.create()\n",
        "  A_x = point_A.getX()\n",
        "  A_y = point_A.getY()\n",
        "  print(\"Input point B details:\")\n",
        "  point_B = Point()\n",
        "  point_B.create()\n",
        "  B_x = point_B.getX()\n",
        "  B_y = point_B.getY()\n",
        "  print(\"Input point C details:\")\n",
        "  point_C = Point()\n",
        "  point_C.create()\n",
        "  C_x = point_C.getX()\n",
        "  C_y = point_C.getY()\n",
        "  print(\"Input point D details:\")\n",
        "  point_D = Point()\n",
        "  point_D.create()\n",
        "  D_x = point_D.getX()\n",
        "  D_y = point_D.getY()\n",
        "  abc = turntest([A_x,B_x,C_x], [A_y,B_y,C_y]) \n",
        "  abd = turntest([A_x,B_x,D_x], [A_y,B_y,D_y])\n",
        "  cda = turntest([C_x,D_x,A_x], [C_y,D_y,A_y])\n",
        "  cdb = turntest([C_x,D_x,B_x], [C_y,D_y,B_y])\n",
        "\n",
        "  print(\"ABC is\", abc)\n",
        "  print(\"ABD is\", abd)\n",
        "  print(\"CDA is\", cda)\n",
        "  print(\"CDB is\", cdb)\n",
        "\n",
        "  if abc == \"colinear\" or abd == \"colinear\" or cda == \"colinear\" or cdb == \"colinear\" :\n",
        "    # Between and Beyondness Check\n",
        "    if ((A_x <= C_x <= B_x or A_x >= C_x >= B_x) and (A_y <= C_y <= B_y or A_y >= C_y >= B_y)) or ((A_x <= D_x <= B_x or A_x >= D_x >= B_x) and (A_y <= D_y <= B_y or A_y >= D_y >= B_y)) or ((C_x <= A_x <= D_x or C_x >= A_x >= D_x) and (C_y <= A_y <= D_y or C_y >= A_y >= D_y)) or ((C_x <= B_x <= D_x or C_x >= B_x >= D_x) and (C_y <= B_y <= D_y or C_y >= B_y >= D_y)):\n",
        "      print(\"Line AB and CD are improper intersection\")\n",
        "    else:\n",
        "      print(\"Line AB & CD do not intersect\")\n",
        "  else:\n",
        "    if abc!=abd and cda!=cdb:\n",
        "      print(\"Line AB & CD are proper intersection\")\n",
        "    else:\n",
        "      print(\"Line AB & CD do not intersect\")\n",
        "\n",
        "  plt.plot([A_x,B_x], [A_y,B_y],'ko-')\n",
        "  plt.annotate(\"A\",(A_x, A_y))\n",
        "  plt.annotate(\"B\",(B_x, B_y))\n",
        "  plt.plot([C_x,D_x], [C_y,D_y],'ko-')\n",
        "  plt.annotate(\"C\",(C_x, C_y))\n",
        "  plt.annotate(\"D\",(D_x, D_y))\n",
        "  plt.show\n",
        "\n",
        "# Example 1: \n",
        "# A = (2,2), B = (5,5) and C = (2,5), D = (5,2)\n",
        "# Output: Proper Intersection\n",
        "\n",
        "# Example 2:\n",
        "# A = (2,7), B = (7,17) and C = (2,12), D = (5,13)\n",
        "# Output: Improper Intersection\n",
        "\n",
        "# Example 3: \n",
        "# A = (2,2), B = (10,10) and C = (-2,-2), D = (-10,-10)\n",
        "# Output: do not intersect (Between and beyond)-\n",
        "\n",
        "checkIntersection()\n",
        "\n"
      ],
      "execution_count": null,
      "outputs": [
        {
          "output_type": "stream",
          "name": "stdout",
          "text": [
            "Input point A details:\n",
            "Input x coordinate value: 1\n",
            "Input y coordinate value: 1\n",
            "Input point B details:\n",
            "Input x coordinate value: 1\n",
            "Input y coordinate value: 20\n",
            "Input point C details:\n",
            "Input x coordinate value: 1\n",
            "Input y coordinate value: 15\n",
            "Input point D details:\n",
            "Input x coordinate value: 10\n",
            "Input y coordinate value: 15\n",
            "turn test of point( 1 , 1 ) ,  ( 1 , 20 ) ( 1 , 15 ) is colinear\n",
            "turn test of point( 1 , 1 ) ,  ( 1 , 20 ) ( 10 , 15 ) is right turn\n",
            "turn test of point( 1 , 15 ) ,  ( 10 , 15 ) ( 1 , 1 ) is right turn\n",
            "turn test of point( 1 , 15 ) ,  ( 10 , 15 ) ( 1 , 20 ) is left turn\n",
            "ABC is colinear\n",
            "ABD is right turn\n",
            "CDA is right turn\n",
            "CDB is left turn\n",
            "Line AB and CD are improper intersection\n"
          ]
        },
        {
          "output_type": "display_data",
          "data": {
            "image/png": "[encoded data removed]",
            "text/plain": [
              "<Figure size 432x288 with 1 Axes>"
            ]
          },
          "metadata": {
            "needs_background": "light"
          }
        }
      ]
    },
    {
      "cell_type": "markdown",
      "metadata": {
        "id": "GvZ0tlwJsJTr"
      },
      "source": [
        "# Implementation of Convex Hull"
      ]
    },
    {
      "cell_type": "markdown",
      "metadata": {
        "id": "WH9iKpE1sNCe"
      },
      "source": [
        "\n",
        "\n",
        "Using extreme point elimination\n"
      ]
    },
    {
      "cell_type": "code",
      "metadata": {
        "id": "AJ5Ga1ADwrsA",
        "colab": {
          "base_uri": "https://localhost:8080/"
        },
        "outputId": "bf9c11cd-0476-4235-a84d-14cddf51ab08"
      },
      "source": [
        "def findExtreme(x: list, y: list):\n",
        "  # # Input from keyboard\n",
        "  # n = int(input(\"Input the number of points:\"))\n",
        "  # for i in range(0,n):\n",
        "  #   p = Point()\n",
        "  #   p.create() \n",
        "  #   vert_x = p.getX()\n",
        "  #   vert_y = p.getY()\n",
        "  #   x.append(vert_x)\n",
        "  #   y.append(vert_y)\n",
        "  \n",
        "  n = len(x)\n",
        "  index_non_extreme_points = []\n",
        "  for i in range(0, n):\n",
        "    for j in range(0, n):\n",
        "      if j!=i:\n",
        "        for k in range(0, n):\n",
        "          if k!=i and k!=j:\n",
        "            for l in range(0, n):\n",
        "              if l!=i and l!=j and l!=k:\n",
        "                lij = turntest([x[l],x[i],x[j]],[y[l],y[i],y[j]])\n",
        "                ljk = turntest([x[l],x[j],x[k]],[y[l],y[j],y[k]])\n",
        "                lki = turntest([x[l],x[k],x[i]],[y[l],y[k],y[i]])\n",
        "\n",
        "                if lij == ljk == lki:\n",
        "                  index_non_extreme_points.append(l)\n",
        "\n",
        "  index_non_extreme_points = list(dict.fromkeys(index_non_extreme_points))\n",
        "  if len(index_non_extreme_points) == 0:\n",
        "    print(\"There is not non extreme points\")\n",
        "  else:\n",
        "    print(\"\\nNon extreme point:\")\n",
        "    for i in range(0, len(index_non_extreme_points)):\n",
        "     print(\"(\",x[index_non_extreme_points[i]],\",\", y[index_non_extreme_points[i]], \")\")\n",
        "\n",
        "findExtreme([1, 10, 15, 12],[1 ,15,2,20])\n"
      ],
      "execution_count": null,
      "outputs": [
        {
          "output_type": "stream",
          "name": "stdout",
          "text": [
            "turn test of point( 12 , 20 ) ,  ( 1 , 1 ) ( 10 , 15 ) is left turn\n",
            "turn test of point( 12 , 20 ) ,  ( 10 , 15 ) ( 15 , 2 ) is left turn\n",
            "turn test of point( 12 , 20 ) ,  ( 15 , 2 ) ( 1 , 1 ) is right turn\n",
            "turn test of point( 15 , 2 ) ,  ( 1 , 1 ) ( 10 , 15 ) is right turn\n",
            "turn test of point( 15 , 2 ) ,  ( 10 , 15 ) ( 12 , 20 ) is right turn\n",
            "turn test of point( 15 , 2 ) ,  ( 12 , 20 ) ( 1 , 1 ) is left turn\n",
            "turn test of point( 12 , 20 ) ,  ( 1 , 1 ) ( 15 , 2 ) is left turn\n",
            "turn test of point( 12 , 20 ) ,  ( 15 , 2 ) ( 10 , 15 ) is right turn\n",
            "turn test of point( 12 , 20 ) ,  ( 10 , 15 ) ( 1 , 1 ) is right turn\n",
            "turn test of point( 10 , 15 ) ,  ( 1 , 1 ) ( 15 , 2 ) is left turn\n",
            "turn test of point( 10 , 15 ) ,  ( 15 , 2 ) ( 12 , 20 ) is left turn\n",
            "turn test of point( 10 , 15 ) ,  ( 12 , 20 ) ( 1 , 1 ) is left turn\n",
            "turn test of point( 15 , 2 ) ,  ( 1 , 1 ) ( 12 , 20 ) is right turn\n",
            "turn test of point( 15 , 2 ) ,  ( 12 , 20 ) ( 10 , 15 ) is left turn\n",
            "turn test of point( 15 , 2 ) ,  ( 10 , 15 ) ( 1 , 1 ) is left turn\n",
            "turn test of point( 10 , 15 ) ,  ( 1 , 1 ) ( 12 , 20 ) is right turn\n",
            "turn test of point( 10 , 15 ) ,  ( 12 , 20 ) ( 15 , 2 ) is right turn\n",
            "turn test of point( 10 , 15 ) ,  ( 15 , 2 ) ( 1 , 1 ) is right turn\n",
            "turn test of point( 12 , 20 ) ,  ( 10 , 15 ) ( 1 , 1 ) is right turn\n",
            "turn test of point( 12 , 20 ) ,  ( 1 , 1 ) ( 15 , 2 ) is left turn\n",
            "turn test of point( 12 , 20 ) ,  ( 15 , 2 ) ( 10 , 15 ) is right turn\n",
            "turn test of point( 15 , 2 ) ,  ( 10 , 15 ) ( 1 , 1 ) is left turn\n",
            "turn test of point( 15 , 2 ) ,  ( 1 , 1 ) ( 12 , 20 ) is right turn\n",
            "turn test of point( 15 , 2 ) ,  ( 12 , 20 ) ( 10 , 15 ) is left turn\n",
            "turn test of point( 12 , 20 ) ,  ( 10 , 15 ) ( 15 , 2 ) is left turn\n",
            "turn test of point( 12 , 20 ) ,  ( 15 , 2 ) ( 1 , 1 ) is right turn\n",
            "turn test of point( 12 , 20 ) ,  ( 1 , 1 ) ( 10 , 15 ) is left turn\n",
            "turn test of point( 1 , 1 ) ,  ( 10 , 15 ) ( 15 , 2 ) is right turn\n",
            "turn test of point( 1 , 1 ) ,  ( 15 , 2 ) ( 12 , 20 ) is left turn\n",
            "turn test of point( 1 , 1 ) ,  ( 12 , 20 ) ( 10 , 15 ) is right turn\n",
            "turn test of point( 15 , 2 ) ,  ( 10 , 15 ) ( 12 , 20 ) is right turn\n",
            "turn test of point( 15 , 2 ) ,  ( 12 , 20 ) ( 1 , 1 ) is left turn\n",
            "turn test of point( 15 , 2 ) ,  ( 1 , 1 ) ( 10 , 15 ) is right turn\n",
            "turn test of point( 1 , 1 ) ,  ( 10 , 15 ) ( 12 , 20 ) is left turn\n",
            "turn test of point( 1 , 1 ) ,  ( 12 , 20 ) ( 15 , 2 ) is right turn\n",
            "turn test of point( 1 , 1 ) ,  ( 15 , 2 ) ( 10 , 15 ) is left turn\n",
            "turn test of point( 12 , 20 ) ,  ( 15 , 2 ) ( 1 , 1 ) is right turn\n",
            "turn test of point( 12 , 20 ) ,  ( 1 , 1 ) ( 10 , 15 ) is left turn\n",
            "turn test of point( 12 , 20 ) ,  ( 10 , 15 ) ( 15 , 2 ) is left turn\n",
            "turn test of point( 10 , 15 ) ,  ( 15 , 2 ) ( 1 , 1 ) is right turn\n",
            "turn test of point( 10 , 15 ) ,  ( 1 , 1 ) ( 12 , 20 ) is right turn\n",
            "turn test of point( 10 , 15 ) ,  ( 12 , 20 ) ( 15 , 2 ) is right turn\n",
            "turn test of point( 12 , 20 ) ,  ( 15 , 2 ) ( 10 , 15 ) is right turn\n",
            "turn test of point( 12 , 20 ) ,  ( 10 , 15 ) ( 1 , 1 ) is right turn\n",
            "turn test of point( 12 , 20 ) ,  ( 1 , 1 ) ( 15 , 2 ) is left turn\n",
            "turn test of point( 1 , 1 ) ,  ( 15 , 2 ) ( 10 , 15 ) is left turn\n",
            "turn test of point( 1 , 1 ) ,  ( 10 , 15 ) ( 12 , 20 ) is left turn\n",
            "turn test of point( 1 , 1 ) ,  ( 12 , 20 ) ( 15 , 2 ) is right turn\n",
            "turn test of point( 10 , 15 ) ,  ( 15 , 2 ) ( 12 , 20 ) is left turn\n",
            "turn test of point( 10 , 15 ) ,  ( 12 , 20 ) ( 1 , 1 ) is left turn\n",
            "turn test of point( 10 , 15 ) ,  ( 1 , 1 ) ( 15 , 2 ) is left turn\n",
            "turn test of point( 1 , 1 ) ,  ( 15 , 2 ) ( 12 , 20 ) is left turn\n",
            "turn test of point( 1 , 1 ) ,  ( 12 , 20 ) ( 10 , 15 ) is right turn\n",
            "turn test of point( 1 , 1 ) ,  ( 10 , 15 ) ( 15 , 2 ) is right turn\n",
            "turn test of point( 15 , 2 ) ,  ( 12 , 20 ) ( 1 , 1 ) is left turn\n",
            "turn test of point( 15 , 2 ) ,  ( 1 , 1 ) ( 10 , 15 ) is right turn\n",
            "turn test of point( 15 , 2 ) ,  ( 10 , 15 ) ( 12 , 20 ) is right turn\n",
            "turn test of point( 10 , 15 ) ,  ( 12 , 20 ) ( 1 , 1 ) is left turn\n",
            "turn test of point( 10 , 15 ) ,  ( 1 , 1 ) ( 15 , 2 ) is left turn\n",
            "turn test of point( 10 , 15 ) ,  ( 15 , 2 ) ( 12 , 20 ) is left turn\n",
            "turn test of point( 15 , 2 ) ,  ( 12 , 20 ) ( 10 , 15 ) is left turn\n",
            "turn test of point( 15 , 2 ) ,  ( 10 , 15 ) ( 1 , 1 ) is left turn\n",
            "turn test of point( 15 , 2 ) ,  ( 1 , 1 ) ( 12 , 20 ) is right turn\n",
            "turn test of point( 1 , 1 ) ,  ( 12 , 20 ) ( 10 , 15 ) is right turn\n",
            "turn test of point( 1 , 1 ) ,  ( 10 , 15 ) ( 15 , 2 ) is right turn\n",
            "turn test of point( 1 , 1 ) ,  ( 15 , 2 ) ( 12 , 20 ) is left turn\n",
            "turn test of point( 10 , 15 ) ,  ( 12 , 20 ) ( 15 , 2 ) is right turn\n",
            "turn test of point( 10 , 15 ) ,  ( 15 , 2 ) ( 1 , 1 ) is right turn\n",
            "turn test of point( 10 , 15 ) ,  ( 1 , 1 ) ( 12 , 20 ) is right turn\n",
            "turn test of point( 1 , 1 ) ,  ( 12 , 20 ) ( 15 , 2 ) is right turn\n",
            "turn test of point( 1 , 1 ) ,  ( 15 , 2 ) ( 10 , 15 ) is left turn\n",
            "turn test of point( 1 , 1 ) ,  ( 10 , 15 ) ( 12 , 20 ) is left turn\n",
            "\n",
            "Non extreme point:\n",
            "( 10 , 15 )\n"
          ]
        }
      ]
    },
    {
      "cell_type": "markdown",
      "metadata": {
        "id": "tKyMXJ7Tsc2a"
      },
      "source": [
        "Using Graham Scan Algorithm"
      ]
    },
    {
      "cell_type": "code",
      "metadata": {
        "id": "Y9yiVHT9kum0",
        "colab": {
          "base_uri": "https://localhost:8080/"
        },
        "outputId": "71ebbc53-7bad-44ec-b888-29c12edf0a07"
      },
      "source": [
        "import math\n",
        "def graham_scan(X: list, Y: list):\n",
        "  n = len(X)\n",
        "  angle_list = [1000]\n",
        "  stack_x = []\n",
        "  stack_y = []\n",
        "\n",
        "  print(\"Given points are:\\n\", list(zip(X,Y)), \"\\n\")\n",
        "\n",
        "  #sorting the point based y-cordinate\n",
        "  P = sorted(zip(X, Y), key=lambda x:x[1])\n",
        "  tuples = zip(*P)\n",
        "  X, Y = [ list(tuple) for tuple in  tuples]\n",
        "  \n",
        "  #calculating polar angle from initial point\n",
        "  for i in range (1,n):\n",
        "    v1_theta = math.atan2(X[0],Y[0])\n",
        "    v2_theta = math.atan2(X[i], Y[i])\n",
        "    angle = (v2_theta - v1_theta) * (180.0 / math.pi)\n",
        "    if angle < 0:\n",
        "      angle % 360\n",
        "    angle_list.append(angle)\n",
        "\n",
        "  #algularly sorting with respect to initial point\n",
        "  Q = sorted(zip(X, Y, angle_list), key = lambda x:x[2], reverse = True)\n",
        "  tuples = zip(*Q)\n",
        "  X, Y, angle_list = [list(tuple) for tuple in  tuples]\n",
        "  print(\"Angularly sorted list is:\\n\",list(zip(X,Y)), \"\\n\")\n",
        "\n",
        "  # Push Q[0] and Q[1] into stack\n",
        "  stack_x.append(X[0]), stack_y.append(Y[0])\n",
        "  stack_x.append(X[1]), stack_y.append(Y[1])\n",
        "  print(\"Initially, points in stack S:\\n\", list(zip(stack_x,stack_y)), \"\\n\")\n",
        "\n",
        "  for i in range(2,n):\n",
        "    top = len(stack_x)\n",
        "    print(\"\\n****************for i=\",i,\"***************************\")\n",
        "    turn_test = turntest([stack_x[top-2], stack_x[top-1], X[i]], [stack_y[top-2], stack_y[top-1], Y[i]])\n",
        "    if  turn_test == \"left turn\":\n",
        "      print(\"push (\", X[i], Y[i],\") into stack\")\n",
        "      stack_x.append(X[i]), stack_y.append(Y[i])\n",
        "      print(\"points in stack S:\", list(zip(stack_x,stack_y)), \"\\n\")\n",
        "    while turntest != \"left turn\":\n",
        "      top = len(stack_x)\n",
        "      print(\"pop (\", stack_x[top-1], stack_y[top-1],\") into stack\")\n",
        "      stack_x.pop(), stack_y.pop()\n",
        "      print(\"points in stack S:\", list(zip(stack_x,stack_y)), \"\\n\")\n",
        "      top = len(stack_x)\n",
        "      turn_test = turntest([stack_x[top-2], stack_x[top-1], X[i]], [stack_y[top-2], stack_y[top-1], Y[i]])\n",
        "      if  turn_test == \"left turn\":\n",
        "        print(\"push (\", X[i], Y[i],\") into stack\")\n",
        "        stack_x.append(X[i]), stack_y.append(Y[i])\n",
        "        print(\"points in stack S:\", list(zip(stack_x,stack_y)), \"\\n\")\n",
        "        break  \n",
        "  print(\"\\nconvex hull points are:\", list(zip(stack_x,stack_y)))\n",
        "\n",
        "graham_scan([2, 10, 1, 4, 15, 12],[1 ,5 ,10 ,6 ,2 , 11])\n"
      ],
      "execution_count": null,
      "outputs": [
        {
          "output_type": "stream",
          "name": "stdout",
          "text": [
            "Given points are:\n",
            " [(2, 1), (10, 5), (1, 10), (4, 6), (15, 2), (12, 11)] \n",
            "\n",
            "Angularly sorted list is:\n",
            " [(2, 1), (15, 2), (10, 5), (12, 11), (4, 6), (1, 10)] \n",
            "\n",
            "Initially, points in stack S:\n",
            " [(2, 1), (15, 2)] \n",
            "\n",
            "\n",
            "****************for i= 2 ***************************\n",
            "turn test of point( 2 , 1 ) ,  ( 15 , 2 ) ( 10 , 5 ) is left turn\n",
            "push ( 10 5 ) into stack\n",
            "points in stack S: [(2, 1), (15, 2), (10, 5)] \n",
            "\n",
            "pop ( 10 5 ) into stack\n",
            "points in stack S: [(2, 1), (15, 2)] \n",
            "\n",
            "turn test of point( 2 , 1 ) ,  ( 15 , 2 ) ( 10 , 5 ) is left turn\n",
            "push ( 10 5 ) into stack\n",
            "points in stack S: [(2, 1), (15, 2), (10, 5)] \n",
            "\n",
            "\n",
            "****************for i= 3 ***************************\n",
            "turn test of point( 15 , 2 ) ,  ( 10 , 5 ) ( 12 , 11 ) is right turn\n",
            "pop ( 10 5 ) into stack\n",
            "points in stack S: [(2, 1), (15, 2)] \n",
            "\n",
            "turn test of point( 2 , 1 ) ,  ( 15 , 2 ) ( 12 , 11 ) is left turn\n",
            "push ( 12 11 ) into stack\n",
            "points in stack S: [(2, 1), (15, 2), (12, 11)] \n",
            "\n",
            "\n",
            "****************for i= 4 ***************************\n",
            "turn test of point( 15 , 2 ) ,  ( 12 , 11 ) ( 4 , 6 ) is left turn\n",
            "push ( 4 6 ) into stack\n",
            "points in stack S: [(2, 1), (15, 2), (12, 11), (4, 6)] \n",
            "\n",
            "pop ( 4 6 ) into stack\n",
            "points in stack S: [(2, 1), (15, 2), (12, 11)] \n",
            "\n",
            "turn test of point( 15 , 2 ) ,  ( 12 , 11 ) ( 4 , 6 ) is left turn\n",
            "push ( 4 6 ) into stack\n",
            "points in stack S: [(2, 1), (15, 2), (12, 11), (4, 6)] \n",
            "\n",
            "\n",
            "****************for i= 5 ***************************\n",
            "turn test of point( 12 , 11 ) ,  ( 4 , 6 ) ( 1 , 10 ) is right turn\n",
            "pop ( 4 6 ) into stack\n",
            "points in stack S: [(2, 1), (15, 2), (12, 11)] \n",
            "\n",
            "turn test of point( 15 , 2 ) ,  ( 12 , 11 ) ( 1 , 10 ) is left turn\n",
            "push ( 1 10 ) into stack\n",
            "points in stack S: [(2, 1), (15, 2), (12, 11), (1, 10)] \n",
            "\n",
            "\n",
            "convex hull points are: [(2, 1), (15, 2), (12, 11), (1, 10)]\n"
          ]
        }
      ]
    }
  ]
}