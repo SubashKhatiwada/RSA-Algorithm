{
  "nbformat": 4,
  "nbformat_minor": 0,
  "metadata": {
    "colab": {
      "name": "RSA Algorithm.ipynb",
      "provenance": [],
      "collapsed_sections": [],
      "toc_visible": true,
      "authorship_tag": "ABX9TyMKLnAPAugKgkivG9VwdwyW",
      "include_colab_link": true
    },
    "kernelspec": {
      "name": "python3",
      "display_name": "Python 3"
    },
    "language_info": {
      "name": "python"
    }
  },
  "cells": [
    {
      "cell_type": "markdown",
      "metadata": {
        "id": "view-in-github",
        "colab_type": "text"
      },
      "source": [
        "<a href=\"https://colab.research.google.com/github/SubashKhatiwada/RSA-Algorithm/blob/main/RSA_Algorithm.ipynb\" target=\"_parent\"><img src=\"https://colab.research.google.com/assets/colab-badge.svg\" alt=\"Open In Colab\"/></a>"
      ]
    },
    {
      "cell_type": "code",
      "source": [
        "import math\n",
        "import random\n",
        "import time"
      ],
      "metadata": {
        "id": "QivF8L3d2Lpl"
      },
      "execution_count": 2,
      "outputs": []
    },
    {
      "cell_type": "markdown",
      "source": [
        "# RSA Key Generation"
      ],
      "metadata": {
        "id": "jj5Ah56X6ijD"
      }
    },
    {
      "cell_type": "code",
      "source": [
        "def key_generation(p:int, q:int):\n",
        "  n = p * q\n",
        "  fi = (p-1) * (q-1)\n",
        "  flag = False\n",
        "  while(flag == False):\n",
        "    e = random.randint(1,fi)\n",
        "    if math.gcd(e, fi) == 1:\n",
        "      flag = True  \n",
        "  d = euclides(e,fi)\n",
        "  public_key = [e,n]\n",
        "  private_key = [d,n]\n",
        "  return [public_key, private_key]\n",
        "\n",
        "# Extended Euclidean Algorithm for calculating Multiplicative Inverse#\n",
        "def euclides(inverso, modulo):\n",
        "    modulo0 = modulo\n",
        "    x0, x1, y0, y1 = 1, 0, 0, 1\n",
        "    while modulo != 0:\n",
        "        q, inverso, modulo = inverso // modulo, modulo, inverso % modulo\n",
        "        x0, x1 = x1, x0 - q * x1\n",
        "        y0, y1 = y1, y0 - q * y1    \n",
        "    if x0 < 0:\n",
        "        x0 += modulo0\n",
        "    return x0\n"
      ],
      "metadata": {
        "id": "HkgslaJF2Gnp"
      },
      "execution_count": 1,
      "outputs": []
    },
    {
      "cell_type": "markdown",
      "source": [
        "# ANCII Encoder and Decoder "
      ],
      "metadata": {
        "id": "bbpCg_I95Smd"
      }
    },
    {
      "cell_type": "code",
      "source": [
        "def int_to_string(integer:int):\n",
        "  if integer == 0:\n",
        "    return [0]\n",
        "  ascii_list = []\n",
        "  while integer:\n",
        "    ascii_list.append(int(integer % 256))\n",
        "    integer //= 256\n",
        "  ascii_list.reverse()\n",
        "  text = ''.join(chr(i) for i in ascii_list)\n",
        "  return text\n",
        "\n",
        "def string_to_int(text:str):\n",
        "  ascii_list = [ord(c) for c in text]\n",
        "  ascii_list.reverse()\n",
        "  result = 0\n",
        "  for i in range(len(ascii_list)):\n",
        "    result = result + ascii_list[i] * pow(256,i)\n",
        "  return result\n"
      ],
      "metadata": {
        "id": "ufdBggsL5rQd"
      },
      "execution_count": 15,
      "outputs": []
    },
    {
      "cell_type": "markdown",
      "source": [
        "# RSA Encryption and Decryption"
      ],
      "metadata": {
        "id": "xPxRlWPT5wEi"
      }
    },
    {
      "cell_type": "code",
      "metadata": {
        "id": "JQQXyHNIpmbf"
      },
      "source": [
        "def encryption(message:str, public_key:list):\n",
        "  M = string_to_int(message)\n",
        "  e = public_key[0]\n",
        "  n = public_key[1]\n",
        "  if(M<n):\n",
        "    cipher = pow(M,e,n)\n",
        "    print(\"Chipher = \", cipher)\n",
        "    return cipher\n",
        "  else:\n",
        "    print(\"Can't encrypt because M>n\")\n",
        "\n",
        "def decryption(cipher:int, private_key:list):\n",
        "  d = private_key[0]\n",
        "  n = private_key[1]\n",
        "  M = pow(cipher,d,n)\n",
        "  message = int_to_string(M)\n",
        "  return message"
      ],
      "execution_count": 16,
      "outputs": []
    },
    {
      "cell_type": "markdown",
      "source": [
        "# RSA Implementation"
      ],
      "metadata": {
        "id": "UsxvfmHS5-Vf"
      }
    },
    {
      "cell_type": "code",
      "source": [
        "p = 11580523217776961555195620539927040806290991208668019395367170229921565989403421387000150173972036856609946451328398632162396195433856400362333138778800907\n",
        "q = 6746738827396761395619644799461022113962098460320249852287537394539954752882493870496050558417239231600990061934807353959564869182135641319206209813202477\n",
        "key = key_generation(p,q)\n",
        "public_key = key[0]\n",
        "private_key = key[1]\n",
        "e = public_key[0]\n",
        "n = public_key[1]\n",
        "d = private_key[0]\n",
        "print(\"p = \",p)\n",
        "print(\"q = \",q)\n",
        "print(\"n = \", n)\n",
        "print(\"public key (e) = \",e)\n",
        "print(\"private key (d) =\",d)\n",
        "\n",
        "message = \"H\"\n",
        "startime = time.time()\n",
        "cipher = encryption(message,[e,n])\n",
        "endtime = time.time()\n",
        "encryption_time = endtime-startime\n",
        "print(\"Encryption time = \", encryption_time)\n",
        "\n",
        "startime = time.time()\n",
        "message = decryption(cipher,[d,n])\n",
        "endtime = time.time()\n",
        "decryption_time = endtime-startime\n",
        "print(\"decryption time = \", decryption_time)\n"
      ],
      "metadata": {
        "colab": {
          "base_uri": "https://localhost:8080/"
        },
        "id": "YG4YOrrX2YGN",
        "outputId": "22b6594b-b155-48ba-e5ee-a7e4380e2f07"
      },
      "execution_count": 23,
      "outputs": [
        {
          "output_type": "stream",
          "name": "stdout",
          "text": [
            "p =  11580523217776961555195620539927040806290991208668019395367170229921565989403421387000150173972036856609946451328398632162396195433856400362333138778800907\n",
            "q =  6746738827396761395619644799461022113962098460320249852287537394539954752882493870496050558417239231600990061934807353959564869182135641319206209813202477\n",
            "n =  78130765634945507704415483729518369722675537387927657826177335880600942151005224624035789881710185133954324035027878351204794039898296706464700354959552964228805385268496049039609837344992866865538941966987046013697620156515915631004722979773256242647902571535984833591125981789745469431320043337215662246639\n",
            "public key (e) =  53850096197752926705458492857062755639177178418936168447057216739168498594523987254387466903406123559490705092734485060548839671860951030026644913187177777982464758166958774040094215644975673369125327420072451141650166793346563563749332835591143015133086843338294221772680384695334946216767307748159267034389\n",
            "private key (d) = 67084110837942840368830560134508270089295950679614476545245430483159716085318706774855955148492244856072473534018208237314229867516958977683383815459663428471639651781440300157594458418174097855092872514607255363885838790486308778000741123579365672565321693111273828435502360900715974065037109040184804794813\n",
            "Chipher =  32870798784576622008783533071713223069907246294417300115501287525650389630398251136380829812852200840237192131603758469260397904471045197122133810568122365478971861636522505618789021753353213505343581083517365605363159955044797014608145953897581186564393902407232421806572834946510554974301912601188585986231\n",
            "Encryption time =  0.0047266483306884766\n",
            "decryption time =  0.006880998611450195\n"
          ]
        }
      ]
    }
  ]
}