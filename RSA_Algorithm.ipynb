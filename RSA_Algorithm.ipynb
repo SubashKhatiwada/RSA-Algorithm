{
  "nbformat": 4,
  "nbformat_minor": 0,
  "metadata": {
    "colab": {
      "name": "RSA Algorithm.ipynb",
      "provenance": [],
      "collapsed_sections": [],
      "toc_visible": true,
      "authorship_tag": "ABX9TyPzw+NLCMXo1Rg9xX3JdDUu",
      "include_colab_link": true
    },
    "kernelspec": {
      "name": "python3",
      "display_name": "Python 3"
    },
    "language_info": {
      "name": "python"
    }
  },
  "cells": [
    {
      "cell_type": "markdown",
      "metadata": {
        "id": "view-in-github",
        "colab_type": "text"
      },
      "source": [
        "<a href=\"https://colab.research.google.com/github/SubashKhatiwada/RSA-vs-ECC/blob/main/RSA_Algorithm.ipynb\" target=\"_parent\"><img src=\"https://colab.research.google.com/assets/colab-badge.svg\" alt=\"Open In Colab\"/></a>"
      ]
    },
    {
      "cell_type": "code",
      "source": [
        "import math\n",
        "import random\n",
        "import time"
      ],
      "metadata": {
        "id": "QivF8L3d2Lpl"
      },
      "execution_count": 2,
      "outputs": []
    },
    {
      "cell_type": "markdown",
      "source": [
        "# RSA Key Generation"
      ],
      "metadata": {
        "id": "jj5Ah56X6ijD"
      }
    },
    {
      "cell_type": "code",
      "source": [
        "def key_generation(p:int, q:int):\n",
        "  n = p * q\n",
        "  fi = (p-1) * (q-1)\n",
        "  print(\"fi(n)\", fi)\n",
        "  flag = False\n",
        "  while(flag == False):\n",
        "    e = random.randint(1,fi)\n",
        "\n",
        "    if math.gcd(e, fi) == 1:\n",
        "      flag = True  \n",
        "  d = euclides(e,fi)\n",
        "  public_key = [e,n]\n",
        "  private_key = [d,n]\n",
        "  return [public_key, private_key]\n",
        "\n",
        "# Extended Euclidean Algorithm for calculating Multiplicative Inverse#\n",
        "def euclides(inverso, modulo):\n",
        "    modulo0 = modulo\n",
        "    x0, x1, y0, y1 = 1, 0, 0, 1\n",
        "    while modulo != 0:\n",
        "        q, inverso, modulo = inverso // modulo, modulo, inverso % modulo\n",
        "        x0, x1 = x1, x0 - q * x1\n",
        "        y0, y1 = y1, y0 - q * y1    \n",
        "    if x0 < 0:\n",
        "        x0 += modulo0\n",
        "    return x0\n",
        "\n",
        "p = 62617\n",
        "q = 50893\n",
        "key = key_generation(p,q)\n",
        "public_key = key[0]\n",
        "private_key = key[1]\n",
        "e = public_key[0]\n",
        "n = public_key[1]\n",
        "d = private_key[0]\n"
      ],
      "metadata": {
        "id": "HkgslaJF2Gnp"
      },
      "execution_count": null,
      "outputs": []
    },
    {
      "cell_type": "markdown",
      "source": [
        "# ANCII Encoder and Decoder "
      ],
      "metadata": {
        "id": "bbpCg_I95Smd"
      }
    },
    {
      "cell_type": "code",
      "source": [
        "def encoder(text:str):\n",
        "  ascii_list = [ord(c) for c in text]\n",
        "  print(\"ascii_list=\",ascii_list)\n",
        "  ascii_list.reverse()\n",
        "  result = 0\n",
        "  for i in range(len(ascii_list)):\n",
        "    result = result + ascii_list[i] * pow(256,i)\n",
        "  print(\"Numeric Value = \", result)\n",
        "  return result\n",
        "\n",
        "def decoder(integer:int):\n",
        "  if integer == 0:\n",
        "    return [0]\n",
        "  ascii_list = []\n",
        "  while integer:\n",
        "    ascii_list.append(int(integer % 256))\n",
        "    integer //= 256\n",
        "  ascii_list.reverse()\n",
        "  text = ''.join(chr(i) for i in ascii_list)\n",
        "  return text"
      ],
      "metadata": {
        "id": "ufdBggsL5rQd"
      },
      "execution_count": 8,
      "outputs": []
    },
    {
      "cell_type": "markdown",
      "source": [
        "# RSA Encryption and Decryption"
      ],
      "metadata": {
        "id": "xPxRlWPT5wEi"
      }
    },
    {
      "cell_type": "code",
      "metadata": {
        "id": "JQQXyHNIpmbf"
      },
      "source": [
        "def encryption(message:str, private_key:list):\n",
        "  M = encoder(message)\n",
        "  d = private_key[0]\n",
        "  n = private_key[1]\n",
        "  if(M<n):\n",
        "    cipher = pow(M,e,n)\n",
        "    print(\"Chipher = \", cipher)\n",
        "    return cipher\n",
        "  else:\n",
        "    print(\"Can't encrypt because M>n\")\n",
        "\n",
        "def decryption(cipher:int, public_key:list):\n",
        "  e = public_key[0]\n",
        "  n = public_key[1]\n",
        "  M = pow(cipher,d,n)\n",
        "  message = decoder(M)\n",
        "  return message"
      ],
      "execution_count": 7,
      "outputs": []
    },
    {
      "cell_type": "markdown",
      "source": [
        "# RSA Implementation"
      ],
      "metadata": {
        "id": "UsxvfmHS5-Vf"
      }
    },
    {
      "cell_type": "code",
      "source": [
        "\n",
        "m = \"HI\"\n",
        "p =  11580523217776961555195620539927040806290991208668019395367170229921565989403421387000150173972036856609946451328398632162396195433856400362333138778800907\n",
        "q =  6746738827396761395619644799461022113962098460320249852287537394539954752882493870496050558417239231600990061934807353959564869182135641319206209813202477\n",
        "n =  78130765634945507704415483729518369722675537387927657826177335880600942151005224624035789881710185133954324035027878351204794039898296706464700354959552964228805385268496049039609837344992866865538941966987046013697620156515915631004722979773256242647902571535984833591125981789745469431320043337215662246639\n",
        "e =  12658584416253475121125143541565321716494549648392519675295148332374759252818290569\n",
        "d =  60511291365964533096234385841967312311516016402048664474832696002728074224620062281898001660620207812686929554172656896291644205106487670928800747397060229926620154132445089128254274595798503870039219884655472141820030496947591739429155832800080866826587759798186183468613249712777209202032682201404013040905\n",
        "print(\"p = \",p)\n",
        "print(\"q = \",q)\n",
        "print(\"n = \", n)\n",
        "print(\"e = \",e)\n",
        "print(\"d =\",d)\n",
        "\n",
        "startime = time.time()\n",
        "cipher = encryption(m,[e,n])\n",
        "endtime = time.time()\n",
        "encryption_time = endtime-startime\n",
        "print(\"Encryption time = \", encryption_time)\n",
        "\n",
        "startime = time.time()\n",
        "message = decryption(cipher,[d,n])\n",
        "endtime = time.time()\n",
        "decryption_time = endtime-startime\n",
        "print(\"decryption time = \", decryption_time)\n"
      ],
      "metadata": {
        "id": "YG4YOrrX2YGN",
        "colab": {
          "base_uri": "https://localhost:8080/",
          "height": 0
        },
        "outputId": "3628af51-64ad-4837-868d-dceda3871f21"
      },
      "execution_count": 10,
      "outputs": [
        {
          "output_type": "stream",
          "name": "stdout",
          "text": [
            "p =  11580523217776961555195620539927040806290991208668019395367170229921565989403421387000150173972036856609946451328398632162396195433856400362333138778800907\n",
            "q =  6746738827396761395619644799461022113962098460320249852287537394539954752882493870496050558417239231600990061934807353959564869182135641319206209813202477\n",
            "n =  78130765634945507704415483729518369722675537387927657826177335880600942151005224624035789881710185133954324035027878351204794039898296706464700354959552964228805385268496049039609837344992866865538941966987046013697620156515915631004722979773256242647902571535984833591125981789745469431320043337215662246639\n",
            "e =  12658584416253475121125143541565321716494549648392519675295148332374759252818290569\n",
            "d = 60511291365964533096234385841967312311516016402048664474832696002728074224620062281898001660620207812686929554172656896291644205106487670928800747397060229926620154132445089128254274595798503870039219884655472141820030496947591739429155832800080866826587759798186183468613249712777209202032682201404013040905\n",
            "ascii_list= [72, 73]\n",
            "Numeric Value =  18505\n",
            "Chipher =  48437098722117480880362183425979041834134552754824555643329584271142247908573879187232100620947329205941098070768454940593015907035749839606656659810535681284216540646349525848899124778547808026150884295966912815236900576410728884248258908109681339289886356012232205184618487820474813620125753366556622189304\n",
            "Encryption time =  0.0022668838500976562\n",
            "decryption time =  0.006052255630493164\n"
          ]
        }
      ]
    }
  ]
}